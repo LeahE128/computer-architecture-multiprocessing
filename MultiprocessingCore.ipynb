{
 "cells": [
  {
   "cell_type": "markdown",
   "metadata": {},
   "source": [
    "# Multiprocessing using Pools \n",
    "A simple framework for assessing the impact of multiprocessing on runtime on a multi-core machine. "
   ]
  },
  {
   "cell_type": "code",
   "execution_count": null,
   "metadata": {},
   "outputs": [],
   "source": [
    "import time\n",
    "import math\n",
    "import multiprocessing\n",
    "from multiprocessing import Pool\n",
    "from matplotlib import pyplot as plt\n",
    "\n",
    "# A function for timing a job that uses a pool of processes.\n",
    "#  f is a function that takes a single argument\n",
    "#  data is an array of arguments on which f will be mapped\n",
    "#  pool_size is the number of processes in the pool. \n",
    "def pool_process(f, data, pool_size):\n",
    "    tp1 = time.time()\n",
    "    pool = Pool(processes=pool_size) # initialize the Pool.\n",
    "    result = pool.map(f, data)       # map f to the data using the Pool of processes to do the work \n",
    "    pool.close() # No more processes\n",
    "    pool.join()  # Wait for the pool processing to complete. \n",
    "    print(\"Results\", result)\n",
    "    print(\"Overall Time:\", int(time.time()-tp1))\n",
    " "
   ]
  },
  {
   "cell_type": "code",
   "execution_count": null,
   "metadata": {},
   "outputs": [],
   "source": [
    "import miscFunc as miscFunc # if miscFunc.py is changed the kernel needs to be restarted. "
   ]
  },
  {
   "cell_type": "code",
   "execution_count": null,
   "metadata": {},
   "outputs": [],
   "source": [
    "dataRange = range(10)"
   ]
  },
  {
   "cell_type": "code",
   "execution_count": null,
   "metadata": {},
   "outputs": [],
   "source": [
    "pool_process(miscFunc.my_func, dataRange, 2)"
   ]
  },
  {
   "cell_type": "markdown",
   "metadata": {},
   "source": [
    "Use the pool_process function to apply my_func to the data in dataRange.  \n",
    "This task is so light it requires very little processing time. "
   ]
  },
  {
   "cell_type": "code",
   "execution_count": null,
   "metadata": {},
   "outputs": [],
   "source": [
    "pool_process(miscFunc.my_func_verbose, dataRange, 1)"
   ]
  },
  {
   "cell_type": "code",
   "execution_count": null,
   "metadata": {},
   "outputs": [],
   "source": [
    "pool_process(miscFunc.my_func_verbose, dataRange, 2)"
   ]
  },
  {
   "cell_type": "markdown",
   "metadata": {},
   "source": [
    "## A naive function for checking primes "
   ]
  },
  {
   "cell_type": "code",
   "execution_count": null,
   "metadata": {},
   "outputs": [],
   "source": [
    "from cpn import check_prime"
   ]
  },
  {
   "cell_type": "code",
   "execution_count": null,
   "metadata": {},
   "outputs": [],
   "source": [
    "check_prime(15488801, )"
   ]
  },
  {
   "cell_type": "code",
   "execution_count": null,
   "metadata": {},
   "outputs": [],
   "source": [
    "check_prime(15488803)"
   ]
  },
  {
   "cell_type": "code",
   "execution_count": null,
   "metadata": {},
   "outputs": [],
   "source": [
    "check_work = [45,13,4]"
   ]
  },
  {
   "cell_type": "code",
   "execution_count": null,
   "metadata": {},
   "outputs": [],
   "source": [
    "pool_process(miscFunc.my_func_verbose, check_work, 1)"
   ]
  },
  {
   "cell_type": "code",
   "execution_count": null,
   "metadata": {},
   "outputs": [],
   "source": [
    "multiprocessing.cpu_count()"
   ]
  },
  {
   "cell_type": "markdown",
   "metadata": {},
   "source": [
    "When testing the check_prime function, we generate three test cases on which the running time with different 'workers' in the pool will be calculated. We test our function by providing an array of prime numbers and then checking which numbers are prime. The results are obtained in terms of True or False for each number. For the purposes of this task, each number was made a prime number to determine the speedup process time.\n",
    "\n",
    "The following test cases were determined:\n",
    "1.\tarray of 5, 8 digit prime numbers\n",
    "2.\tarray of 10, 8 digit prime numbers\n",
    "3.\tarray of 15, 8 digit prime numbers\n",
    "\n",
    "We test and record the performance in terms of time in seconds to complete the task with different pool compositions. Overall speed-up is estimated when executing program with multiple pool workers.\n",
    "\n",
    "\n",
    "# Test Case 1:"
   ]
  },
  {
   "cell_type": "code",
   "execution_count": null,
   "metadata": {},
   "outputs": [],
   "source": [
    "dataRange = [100000081, 100000123, 100000127, 100000193, 100000213]\n",
    "pool_process(check_prime, dataRange, 1)"
   ]
  },
  {
   "cell_type": "code",
   "execution_count": null,
   "metadata": {},
   "outputs": [],
   "source": [
    "dataRange = [100000081, 100000123, 100000127, 100000193, 100000213]\n",
    "pool_process(check_prime, dataRange, 2)"
   ]
  },
  {
   "cell_type": "code",
   "execution_count": null,
   "metadata": {},
   "outputs": [],
   "source": [
    "dataRange = [100000081, 100000123, 100000127, 100000193, 100000213]\n",
    "pool_process(check_prime, dataRange, 3)"
   ]
  },
  {
   "cell_type": "code",
   "execution_count": null,
   "metadata": {},
   "outputs": [],
   "source": [
    "dataRange = [100000081, 100000123, 100000127, 100000193, 100000213]\n",
    "pool_process(check_prime, dataRange, 4)"
   ]
  },
  {
   "cell_type": "markdown",
   "metadata": {},
   "source": [
    "# Test Case 2:"
   ]
  },
  {
   "cell_type": "code",
   "execution_count": null,
   "metadata": {},
   "outputs": [],
   "source": [
    "dataRange = [100000081, 100000123, 100000127, 100000193, 100000213,100000217,100000223,100000231,100000237,100000259]\n",
    "pool_process(check_prime, dataRange, 1)"
   ]
  },
  {
   "cell_type": "code",
   "execution_count": null,
   "metadata": {},
   "outputs": [],
   "source": [
    "dataRange = [100000081, 100000123, 100000127, 100000193, 100000213,100000217,100000223,100000231,100000237,100000259]\n",
    "pool_process(check_prime, dataRange, 2)"
   ]
  },
  {
   "cell_type": "code",
   "execution_count": null,
   "metadata": {},
   "outputs": [],
   "source": [
    "dataRange = [100000081, 100000123, 100000127, 100000193, 100000213,100000217,100000223,100000231,100000237,100000259]\n",
    "pool_process(check_prime, dataRange, 3)"
   ]
  },
  {
   "cell_type": "code",
   "execution_count": null,
   "metadata": {},
   "outputs": [],
   "source": [
    "dataRange = [100000081, 100000123, 100000127, 100000193, 100000213,100000217,100000223,100000231,100000237,100000259]\n",
    "pool_process(check_prime, dataRange, 4)"
   ]
  },
  {
   "cell_type": "markdown",
   "metadata": {},
   "source": [
    "# Test Case 3:"
   ]
  },
  {
   "cell_type": "code",
   "execution_count": null,
   "metadata": {},
   "outputs": [],
   "source": [
    "dataRange = [100000081, 100000123, 100000127, 100000193, 100000213,100000217,100000223,100000231,100000237,100000259,100000267,100000279,100000357,100000379,100000393]\n",
    "pool_process(check_prime, dataRange, 1)"
   ]
  },
  {
   "cell_type": "code",
   "execution_count": null,
   "metadata": {},
   "outputs": [],
   "source": [
    "dataRange = [100000081, 100000123, 100000127, 100000193, 100000213,100000217,100000223,100000231,100000237,100000259,100000267,100000279,100000357,100000379,100000393]\n",
    "pool_process(check_prime, dataRange, 2)"
   ]
  },
  {
   "cell_type": "code",
   "execution_count": null,
   "metadata": {},
   "outputs": [],
   "source": [
    "dataRange = [100000081, 100000123, 100000127, 100000193, 100000213,100000217,100000223,100000231,100000237,100000259,100000267,100000279,100000357,100000379,100000393]\n",
    "pool_process(check_prime, dataRange, 3)"
   ]
  },
  {
   "cell_type": "code",
   "execution_count": null,
   "metadata": {},
   "outputs": [],
   "source": [
    "dataRange = [100000081, 100000123, 100000127, 100000193, 100000213,100000217,100000223,100000231,100000237,100000259,100000267,100000279,100000357,100000379,100000393]\n",
    "pool_process(check_prime, dataRange, 4)"
   ]
  },
  {
   "cell_type": "code",
   "execution_count": null,
   "metadata": {},
   "outputs": [],
   "source": [
    "from matplotlib import pyplot as plt"
   ]
  },
  {
   "cell_type": "code",
   "execution_count": null,
   "metadata": {},
   "outputs": [],
   "source": [
    "plt.plot([1, 2, 3, 4], [39, 24, 20, 24], label='5 prime numbers')\n",
    "plt.plot([1, 2, 3, 4], [80, 48, 45, 42], label='10 prime numbers')\n",
    "plt.plot([1, 2, 3, 4], [137, 79, 69, 63], label='15 prime numbers')\n",
    "plt.xlabel(\"Number of cores\")\n",
    "plt.ylabel(\"Time (s)\")\n",
    "plt.title(\"Time (s) to process 8 digit prime numbers versus number of cores\")\n",
    "plt.legend()\n",
    "plt.savefig('Task1.pdf')"
   ]
  },
  {
   "cell_type": "code",
   "execution_count": null,
   "metadata": {},
   "outputs": [],
   "source": [
    "from sum_prime import sum_prime"
   ]
  },
  {
   "cell_type": "markdown",
   "metadata": {},
   "source": [
    "When testing the sum_prime function, we generate three test cases on which the running time with different 'workers' in the pool will be calculated. We test our function by processing the sum of prime numbers up to the number supplied. \n",
    "\n",
    "The following test cases were determined:\n",
    "1.\t1 x10^5\n",
    "2.\t1.5 x10^5\n",
    "3.\t2 x10^5\n",
    "\n",
    "# Test Case 1:"
   ]
  },
  {
   "cell_type": "code",
   "execution_count": null,
   "metadata": {},
   "outputs": [],
   "source": [
    "dataTest = [100000]\n",
    "pool_process(sum_prime, dataTest, 1)"
   ]
  },
  {
   "cell_type": "code",
   "execution_count": null,
   "metadata": {},
   "outputs": [],
   "source": [
    "dataTest = [100000]\n",
    "pool_process(sum_prime, dataTest, 2)"
   ]
  },
  {
   "cell_type": "code",
   "execution_count": null,
   "metadata": {},
   "outputs": [],
   "source": [
    "dataTest = [100000]\n",
    "pool_process(sum_prime, dataTest, 3)"
   ]
  },
  {
   "cell_type": "code",
   "execution_count": null,
   "metadata": {},
   "outputs": [],
   "source": [
    "dataTest = [100000]\n",
    "pool_process(sum_prime, dataTest, 4)"
   ]
  },
  {
   "cell_type": "markdown",
   "metadata": {},
   "source": [
    "# Test Case 2:"
   ]
  },
  {
   "cell_type": "code",
   "execution_count": null,
   "metadata": {},
   "outputs": [],
   "source": [
    "dataTest = [150000]\n",
    "pool_process(sum_prime, dataTest, 1)"
   ]
  },
  {
   "cell_type": "code",
   "execution_count": null,
   "metadata": {},
   "outputs": [],
   "source": [
    "dataTest = [150000]\n",
    "pool_process(sum_prime, dataTest, 2)"
   ]
  },
  {
   "cell_type": "code",
   "execution_count": null,
   "metadata": {},
   "outputs": [],
   "source": [
    "dataTest = [150000]\n",
    "pool_process(sum_prime, dataTest, 3)"
   ]
  },
  {
   "cell_type": "code",
   "execution_count": null,
   "metadata": {},
   "outputs": [],
   "source": [
    "dataTest = [150000]\n",
    "pool_process(sum_prime, dataTest, 4)"
   ]
  },
  {
   "cell_type": "markdown",
   "metadata": {},
   "source": [
    "# Test Case 3:"
   ]
  },
  {
   "cell_type": "code",
   "execution_count": null,
   "metadata": {},
   "outputs": [],
   "source": [
    "dataTest = [200000]\n",
    "pool_process(sum_prime, dataTest, 1)"
   ]
  },
  {
   "cell_type": "code",
   "execution_count": null,
   "metadata": {},
   "outputs": [],
   "source": [
    "dataTest = [200000]\n",
    "pool_process(sum_prime, dataTest, 2)"
   ]
  },
  {
   "cell_type": "code",
   "execution_count": null,
   "metadata": {},
   "outputs": [],
   "source": [
    "dataTest = [200000]\n",
    "pool_process(sum_prime, dataTest, 3)"
   ]
  },
  {
   "cell_type": "code",
   "execution_count": null,
   "metadata": {},
   "outputs": [],
   "source": [
    "dataTest = [200000]\n",
    "pool_process(sum_prime, dataTest, 4)"
   ]
  },
  {
   "cell_type": "code",
   "execution_count": null,
   "metadata": {},
   "outputs": [],
   "source": [
    "from matplotlib import pyplot as plt\n",
    "\n",
    "plt.plot([1, 2, 3, 4], [97, 110, 106, 126], label='1 x10^5')\n",
    "plt.plot([1, 2, 3, 4], [234, 223, 225, 216], label='1.5 x10^5')\n",
    "plt.plot([1, 2, 3, 4], [415, 401, 365, 357], label='2 x10^5')\n",
    "plt.xlabel(\"Number of cores\")\n",
    "plt.ylabel(\"Time (s)\")\n",
    "plt.title(\"Time (s) to process sum of prime numbers up to the 10^5 number supplied versus number of cores\")\n",
    "plt.legend()\n",
    "plt.savefig('Task2.pdf')"
   ]
  },
  {
   "cell_type": "code",
   "execution_count": null,
   "metadata": {},
   "outputs": [],
   "source": []
  }
 ],
 "metadata": {
  "kernelspec": {
   "display_name": "Python 3",
   "language": "python",
   "name": "python3"
  },
  "language_info": {
   "codemirror_mode": {
    "name": "ipython",
    "version": 3
   },
   "file_extension": ".py",
   "mimetype": "text/x-python",
   "name": "python",
   "nbconvert_exporter": "python",
   "pygments_lexer": "ipython3",
   "version": "3.8.8"
  }
 },
 "nbformat": 4,
 "nbformat_minor": 1
}
